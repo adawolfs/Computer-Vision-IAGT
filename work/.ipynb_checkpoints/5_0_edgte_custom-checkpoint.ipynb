{
 "cells": [
  {
   "cell_type": "markdown",
   "metadata": {},
   "source": [
    "# Creando un filtro \"Edge Detection\""
   ]
  },
  {
   "cell_type": "markdown",
   "metadata": {},
   "source": [
    "### Importar librerias e imagen"
   ]
  },
  {
   "cell_type": "code",
   "execution_count": null,
   "metadata": {},
   "outputs": [],
   "source": [
    "import matplotlib.pyplot as plt\n",
    "import matplotlib.image as mpimg\n",
    "\n",
    "import cv2\n",
    "import numpy as np\n",
    "\n",
    "%matplotlib inline\n",
    "\n",
    "# Read in the image\n",
    "image = mpimg.imread('images/curved_lane.jpg')\n",
    "\n",
    "plt.imshow(image)"
   ]
  },
  {
   "cell_type": "markdown",
   "metadata": {},
   "source": [
    "### Convert the image to grayscale"
   ]
  },
  {
   "cell_type": "code",
   "execution_count": null,
   "metadata": {},
   "outputs": [],
   "source": [
    "# Convertir imagen a grises\n",
    "gray = cv2.cvtColor(image, cv2.COLOR_RGB2GRAY)\n",
    "\n",
    "plt.imshow(gray, cmap='gray')"
   ]
  },
  {
   "cell_type": "markdown",
   "metadata": {},
   "source": [
    "### Crear un custom kernel basado en los operadores sobel\n",
    "\n",
    "\n",
    "![title](images/filters.png)"
   ]
  },
  {
   "cell_type": "code",
   "execution_count": null,
   "metadata": {},
   "outputs": [],
   "source": [
    "# Create a custom kernel\n",
    "\n",
    "# 3x3 array for edge detection\n",
    "sobel_x = np.array([[ -1,  0,  1], \n",
    "                   [  -2,  0,  2], \n",
    "                   [  -1,  0,  1]])\n",
    "\n",
    "\n",
    "sobel_y = np.array([[ -1, -2, -1], \n",
    "                   [   0,  0,  0], \n",
    "                   [   1,  2,  1]])\n",
    "\n",
    "\n",
    "# Filter the image using filter2D, which has inputs: (grayscale image, bit-depth, kernel)  \n",
    "filtered_image_y = cv2.filter2D(gray, -1, sobel_y)\n",
    "filtered_image_x = cv2.filter2D(gray, -1, sobel_x)\n",
    "\n",
    "plt.imshow(filtered_image_y, cmap='gray')\n",
    "plt.imshow(filtered_image_x, cmap='gray')"
   ]
  }
 ],
 "metadata": {
  "anaconda-cloud": {},
  "kernelspec": {
   "display_name": "Python 3",
   "language": "python",
   "name": "python3"
  },
  "language_info": {
   "codemirror_mode": {
    "name": "ipython",
    "version": 3
   },
   "file_extension": ".py",
   "mimetype": "text/x-python",
   "name": "python",
   "nbconvert_exporter": "python",
   "pygments_lexer": "ipython3",
   "version": "3.6.8"
  }
 },
 "nbformat": 4,
 "nbformat_minor": 1
}
