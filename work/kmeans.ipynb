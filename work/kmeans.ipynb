{
 "cells": [
  {
   "cell_type": "markdown",
   "metadata": {},
   "source": [
    "# K-means Clustering"
   ]
  },
  {
   "cell_type": "markdown",
   "metadata": {},
   "source": [
    "### Import resources and display image"
   ]
  },
  {
   "cell_type": "code",
   "execution_count": null,
   "metadata": {},
   "outputs": [],
   "source": [
    "import numpy as np\n",
    "import matplotlib.pyplot as plt\n",
    "import cv2\n",
    "\n",
    "%matplotlib inline\n",
    "\n",
    "# Read in the image\n",
    "#image = cv2.imread('images/k-means-machine-learning.jpg')\n",
    "image = cv2.imread('images/sponge_bob.png')\n",
    "\n",
    "\n",
    "# Change color to RGB (from BGR)\n",
    "image = cv2.cvtColor(image, cv2.COLOR_BGR2RGB)\n",
    "\n",
    "plt.imshow(image)"
   ]
  },
  {
   "cell_type": "markdown",
   "metadata": {},
   "source": [
    "### Prepare data for k-means"
   ]
  },
  {
   "cell_type": "code",
   "execution_count": null,
   "metadata": {},
   "outputs": [],
   "source": [
    "# Reshape image into a 2D array of pixels and 3 color values (RGB)\n",
    "pixel_vals = image.reshape((-1,3))\n",
    "# Convert to float type\n",
    "pixel_vals = np.float32(pixel_vals)"
   ]
  },
  {
   "cell_type": "code",
   "execution_count": null,
   "metadata": {},
   "outputs": [],
   "source": [
    "# define criteria, number of clusters(K) and apply kmeans()\n",
    "# Entrada\n",
    "Z = pixel_vals\n",
    "\n",
    "# Criterio\n",
    "criteria = (cv2.TERM_CRITERIA_EPS + cv2.TERM_CRITERIA_MAX_ITER, 10, 1.0)\n",
    "\n",
    "# Numbero de clusters\n",
    "K = 10\n",
    "\n",
    "# Funcion\n",
    "ret,label,center=cv2.kmeans(Z,K,None,criteria,10,cv2.KMEANS_RANDOM_CENTERS)\n",
    "# retval, bestLabels, centers\t=\tcv.kmeans(\tdata, K, bestLabels, criteria, attempts, flags[, centers]\t)\n",
    "# Parameters\n",
    "# data\tData for clustering. An array of N-Dimensional points with float coordinates is needed.\n",
    "# K\tNumber of clusters to split the set by.\n",
    "# criteria\tThe algorithm termination criteria, that is, the maximum number of iterations \n",
    "# and/or the desired accuracy. The accuracy is specified as criteria.epsilon.\n",
    "# As soon as each of the cluster centers moves by less than criteria.epsilon on some iteration, the algorithm stops.\n",
    "# attempts\tFlag to specify the number of times the algorithm is executed using different initial labellings. The algorithm returns the labels that yield the best compactness (see the last function parameter).\n",
    "# flags\tFlag that can take values of cv::KmeansFlags\n",
    "# centers\tOutput matrix of the cluster centers, one row per each cluster center.\n",
    "\n",
    "# Now convert back into uint8, and make original image\n",
    "center = np.uint8(center)\n",
    "res = center[label.flatten()]\n",
    "res2 = res.reshape((image.shape))\n",
    "\n",
    "\n",
    "plt.imshow(res2)\n"
   ]
  },
  {
   "cell_type": "markdown",
   "metadata": {},
   "source": [
    "### Implement k-means clustering"
   ]
  },
  {
   "cell_type": "code",
   "execution_count": null,
   "metadata": {},
   "outputs": [],
   "source": [
    "# define stopping criteria\n",
    "# you can change the number of max iterations for faster convergence!\n",
    "criteria = (cv2.TERM_CRITERIA_EPS + cv2.TERM_CRITERIA_MAX_ITER, 10, 1)\n",
    "\n",
    "## TODO: Select a value for k\n",
    "# then perform k-means clustering\n",
    "k = 2\n",
    "retval, labels, centers = cv2.kmeans(pixel_vals, k, None, criteria, 10, cv2.KMEANS_RANDOM_CENTERS)\n",
    "\n",
    "# convert data into 8-bit values\n",
    "centers = np.uint8(centers)\n",
    "segmented_data = centers[labels.flatten()]\n",
    "\n",
    "# reshape data into the original image dimensions\n",
    "segmented_image = segmented_data.reshape((image.shape))\n",
    "labels_reshape = labels.reshape(image.shape[0], image.shape[1])\n",
    "\n",
    "plt.imshow(segmented_image)"
   ]
  },
  {
   "cell_type": "code",
   "execution_count": null,
   "metadata": {},
   "outputs": [],
   "source": [
    "## Visualizar diferentes clusters\n",
    "plt.imshow(labels_reshape==1, cmap='gray')"
   ]
  },
  {
   "cell_type": "code",
   "execution_count": null,
   "metadata": {},
   "outputs": [],
   "source": [
    "# Crear mascara para el cluster\n",
    "\n",
    "cluster = 1 # El primer cluster\n",
    "\n",
    "masked_image = np.copy(image)\n",
    "# Mascara verde\n",
    "masked_image[labels_reshape == cluster] = [0, 255, 0]\n",
    "\n",
    "plt.imshow(masked_image)"
   ]
  }
 ],
 "metadata": {
  "anaconda-cloud": {},
  "kernelspec": {
   "display_name": "Python 3",
   "language": "python",
   "name": "python3"
  },
  "language_info": {
   "codemirror_mode": {
    "name": "ipython",
    "version": 3
   },
   "file_extension": ".py",
   "mimetype": "text/x-python",
   "name": "python",
   "nbconvert_exporter": "python",
   "pygments_lexer": "ipython3",
   "version": "3.6.8"
  }
 },
 "nbformat": 4,
 "nbformat_minor": 1
}
