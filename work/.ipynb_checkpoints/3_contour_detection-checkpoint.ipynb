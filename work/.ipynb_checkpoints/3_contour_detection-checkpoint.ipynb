{
 "cells": [
  {
   "cell_type": "markdown",
   "metadata": {},
   "source": [
    "# Finding Contours"
   ]
  },
  {
   "cell_type": "markdown",
   "metadata": {},
   "source": [
    "### Importar librerias y cargar imagen"
   ]
  },
  {
   "cell_type": "code",
   "execution_count": null,
   "metadata": {},
   "outputs": [],
   "source": [
    "import numpy as np\n",
    "import matplotlib.pyplot as plt\n",
    "import cv2\n",
    "\n",
    "%matplotlib inline\n",
    "\n",
    "# Cargar imagen\n",
    "image = cv2.imread('images/thumbs_up_down.jpg')\n",
    "\n",
    "# Convertir en RGB\n",
    "image = cv2.cvtColor(image, cv2.COLOR_BGR2RGB)\n",
    "\n",
    "plt.imshow(image)"
   ]
  },
  {
   "cell_type": "markdown",
   "metadata": {},
   "source": [
    "### Convertir imagen en binaria"
   ]
  },
  {
   "cell_type": "code",
   "execution_count": null,
   "metadata": {},
   "outputs": [],
   "source": [
    "# Convertir en Grises\n",
    "gray = cv2.cvtColor(image,cv2.COLOR_RGB2GRAY)\n",
    "\n",
    "# Crear imagen binaria con funcion threshold\n",
    "# retval, dst\t=\tcv.threshold(\tsrc, thresh, maxval, type[, dst]\t)\n",
    "# Parameters\n",
    "# src\tinput array (multiple-channel, 8-bit or 32-bit floating point).\n",
    "# dst\toutput array of the same size and type and the same number of channels as src.\n",
    "# thresh\tthreshold value.\n",
    "# maxval\tmaximum value to use with the THRESH_BINARY and THRESH_BINARY_INV thresholding types.\n",
    "# type\tthresholding type (see ThresholdTypes).\n",
    "\n",
    "retval, binary = cv2.threshold(gray, 225, 255, cv2.THRESH_BINARY_INV)\n",
    "\n",
    "plt.imshow(binary, cmap='gray')\n"
   ]
  },
  {
   "cell_type": "markdown",
   "metadata": {},
   "source": [
    "### Find and draw the contours"
   ]
  },
  {
   "cell_type": "code",
   "execution_count": null,
   "metadata": {},
   "outputs": [],
   "source": [
    "# Encontrar contornos desde una imagen binaria\n",
    "retval, contours, hierarchy = cv2.findContours(binary, cv2.RETR_TREE, cv2.CHAIN_APPROX_SIMPLE)\n",
    "\n",
    "# Dibujar contornos\n",
    "contours_image = np.copy(image)\n",
    "contours_image = cv2.drawContours(contours_image, contours, -1, (0,255,0), 3)\n",
    "\n",
    "plt.imshow(contours_image)"
   ]
  }
 ],
 "metadata": {
  "anaconda-cloud": {},
  "kernelspec": {
   "display_name": "Python 3",
   "language": "python",
   "name": "python3"
  },
  "language_info": {
   "codemirror_mode": {
    "name": "ipython",
    "version": 3
   },
   "file_extension": ".py",
   "mimetype": "text/x-python",
   "name": "python",
   "nbconvert_exporter": "python",
   "pygments_lexer": "ipython3",
   "version": "3.6.8"
  }
 },
 "nbformat": 4,
 "nbformat_minor": 1
}
